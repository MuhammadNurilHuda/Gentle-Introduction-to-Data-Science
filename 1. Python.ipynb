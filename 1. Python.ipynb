{
 "cells": [
  {
   "attachments": {},
   "cell_type": "markdown",
   "metadata": {},
   "source": [
    "sc : \n",
    "1. https://www.petanikode.com\n",
    "2. https://www.w3schools.com\n",
    "3. https://docs.python.org\n"
   ]
  },
  {
   "attachments": {},
   "cell_type": "markdown",
   "metadata": {},
   "source": [
    "# Python Installation"
   ]
  },
  {
   "attachments": {},
   "cell_type": "markdown",
   "metadata": {},
   "source": [
    "You can see documentation for python installation in python website https://www.python.org/downloads/\n",
    "\n",
    "If successfull, you can check the python version in terminal with `python --version`"
   ]
  },
  {
   "cell_type": "code",
   "execution_count": 3,
   "metadata": {},
   "outputs": [
    {
     "name": "stdout",
     "output_type": "stream",
     "text": [
      "Python 3.10.9\n"
     ]
    }
   ],
   "source": [
    "!python --version"
   ]
  },
  {
   "cell_type": "code",
   "execution_count": 6,
   "metadata": {},
   "outputs": [
    {
     "name": "stdout",
     "output_type": "stream",
     "text": [
      "Hello, world !\n"
     ]
    }
   ],
   "source": [
    "print (\"Hello, world !\")"
   ]
  },
  {
   "attachments": {},
   "cell_type": "markdown",
   "metadata": {},
   "source": [
    "# Python Syntax"
   ]
  },
  {
   "attachments": {},
   "cell_type": "markdown",
   "metadata": {},
   "source": [
    "## Python Statement"
   ]
  },
  {
   "attachments": {},
   "cell_type": "markdown",
   "metadata": {},
   "source": [
    "What is statement ? Statement is an instruction that will be executed by python interpreter, for example :"
   ]
  },
  {
   "cell_type": "code",
   "execution_count": 7,
   "metadata": {},
   "outputs": [
    {
     "name": "stdout",
     "output_type": "stream",
     "text": [
      "Python is one of the most easy Programming Language\n"
     ]
    }
   ],
   "source": [
    "print(\"Python is one of the most easy Programming Language\")"
   ]
  },
  {
   "attachments": {},
   "cell_type": "markdown",
   "metadata": {},
   "source": [
    "Python don't use `;` in the end of code, but if we want to write more than one statement in one row, we can use `;`, for example :"
   ]
  },
  {
   "cell_type": "code",
   "execution_count": 8,
   "metadata": {},
   "outputs": [
    {
     "name": "stdout",
     "output_type": "stream",
     "text": [
      "Programming with python \n",
      "I Love Python\n"
     ]
    }
   ],
   "source": [
    "print(\"Programming with python \"); print(\"I Love Python\")"
   ]
  },
  {
   "attachments": {},
   "cell_type": "markdown",
   "metadata": {},
   "source": [
    "But according to *Python Style Guide*, it's not recommended to write more than one statement in one row"
   ]
  },
  {
   "attachments": {},
   "cell_type": "markdown",
   "metadata": {},
   "source": [
    "## Python String"
   ]
  },
  {
   "attachments": {},
   "cell_type": "markdown",
   "metadata": {},
   "source": [
    "String is a collection of characters that enclosed within quotes. String can be used using single quotes `'` or double-quotes `\"`. For example :"
   ]
  },
  {
   "cell_type": "code",
   "execution_count": 24,
   "metadata": {},
   "outputs": [
    {
     "name": "stdout",
     "output_type": "stream",
     "text": [
      "Python is the easiest programming language\n"
     ]
    }
   ],
   "source": [
    "text = 'Python is the easiest programming language'\n",
    "\n",
    "print(text)"
   ]
  },
  {
   "attachments": {},
   "cell_type": "markdown",
   "metadata": {},
   "source": [
    "or"
   ]
  },
  {
   "cell_type": "code",
   "execution_count": 25,
   "metadata": {},
   "outputs": [
    {
     "name": "stdout",
     "output_type": "stream",
     "text": [
      "Python is the easiest programming language\n"
     ]
    }
   ],
   "source": [
    "text = \"Python is the easiest programming language\"\n",
    "print(text)"
   ]
  },
  {
   "attachments": {},
   "cell_type": "markdown",
   "metadata": {},
   "source": [
    "Or we can used triple quotes or double-quotes"
   ]
  },
  {
   "cell_type": "code",
   "execution_count": 30,
   "metadata": {},
   "outputs": [
    {
     "name": "stdout",
     "output_type": "stream",
     "text": [
      "\n",
      "I love python\n",
      "Python is the easiest Programming Language\n",
      "\n"
     ]
    }
   ],
   "source": [
    "text = \\\n",
    "'''\n",
    "I love python\n",
    "Python is the easiest Programming Language\n",
    "'''\n",
    "\n",
    "print(text)"
   ]
  },
  {
   "attachments": {},
   "cell_type": "markdown",
   "metadata": {},
   "source": [
    "Python provides several built-in methods and functions for working with strings, such as `len()`, `upper()`, `lower()`, `strip()`, `find()`, `replace()`, `split()`, and many more."
   ]
  },
  {
   "attachments": {},
   "cell_type": "markdown",
   "metadata": {},
   "source": [
    "### `len()`\n",
    "\n",
    "`len()` is used to return string length"
   ]
  },
  {
   "cell_type": "code",
   "execution_count": 27,
   "metadata": {},
   "outputs": [
    {
     "name": "stdout",
     "output_type": "stream",
     "text": [
      "the length of string is :  58\n"
     ]
    }
   ],
   "source": [
    "print(\"the length of string is : \", len(text))"
   ]
  },
  {
   "attachments": {},
   "cell_type": "markdown",
   "metadata": {},
   "source": [
    "### `upper()`\n",
    "\n",
    "`upper()` is used to return all character in string in upper case"
   ]
  },
  {
   "cell_type": "code",
   "execution_count": 28,
   "metadata": {},
   "outputs": [
    {
     "name": "stdout",
     "output_type": "stream",
     "text": [
      "\n",
      "I LOVE PYTHON\n",
      "PYTHON IS THE EASIEST PROGRAMMING LANGUAGE\n",
      "\n"
     ]
    }
   ],
   "source": [
    "print(text.upper())"
   ]
  },
  {
   "attachments": {},
   "cell_type": "markdown",
   "metadata": {},
   "source": [
    "### `lower()`\n",
    "\n",
    "`lower()` is used to return all character in string in lower case"
   ]
  },
  {
   "cell_type": "code",
   "execution_count": 31,
   "metadata": {},
   "outputs": [
    {
     "name": "stdout",
     "output_type": "stream",
     "text": [
      "\n",
      "i love python\n",
      "python is the easiest programming language\n",
      "\n"
     ]
    }
   ],
   "source": [
    "print(text.lower())"
   ]
  },
  {
   "attachments": {},
   "cell_type": "markdown",
   "metadata": {},
   "source": [
    "### `strip()`\n",
    "`strip()` is used to returns a copy of the string with whitespace characters removed from the start and end"
   ]
  },
  {
   "cell_type": "code",
   "execution_count": 34,
   "metadata": {},
   "outputs": [
    {
     "name": "stdout",
     "output_type": "stream",
     "text": [
      "without strip :           Python is easy        \n",
      "with strip :  Python is easy\n"
     ]
    }
   ],
   "source": [
    "text = \"         Python is easy        \"\n",
    "print(\"without strip : \",text)\n",
    "print(\"with strip : \", text.strip())"
   ]
  },
  {
   "attachments": {},
   "cell_type": "markdown",
   "metadata": {},
   "source": [
    "### `find()`\n",
    "`find()` is used to returns the index of the substring being searched for in the string. If the substring is not found, returns -1"
   ]
  },
  {
   "cell_type": "code",
   "execution_count": 39,
   "metadata": {},
   "outputs": [
    {
     "name": "stdout",
     "output_type": "stream",
     "text": [
      "The word `is`, is locacted in index :  7\n",
      "The word `do`, is locacted in index :  -1\n"
     ]
    }
   ],
   "source": [
    "text = \"Python is easy\"\n",
    "print(\"The word `is`, is locacted in index : \",text.find(\"is\"))\n",
    "print(\"The word `do`, is locacted in index : \",text.find(\"do\"))"
   ]
  },
  {
   "attachments": {},
   "cell_type": "markdown",
   "metadata": {},
   "source": [
    "### `replace()`\n",
    "`replace()` is used to replace each occurrence of a substring with another substring in a string"
   ]
  },
  {
   "cell_type": "code",
   "execution_count": 40,
   "metadata": {},
   "outputs": [
    {
     "name": "stdout",
     "output_type": "stream",
     "text": [
      "Python is the best\n"
     ]
    }
   ],
   "source": [
    "text = \"Python is easy\"\n",
    "print(text.replace(\"easy\", \"the best\"))"
   ]
  },
  {
   "attachments": {},
   "cell_type": "markdown",
   "metadata": {},
   "source": [
    "### `split()`\n",
    "`split()` is used to break a string into pieces based on a certain separator, which is then stored in a list"
   ]
  },
  {
   "cell_type": "code",
   "execution_count": 41,
   "metadata": {},
   "outputs": [
    {
     "name": "stdout",
     "output_type": "stream",
     "text": [
      "['Python', 'is', 'easy', 'and', 'beginnere', 'friendly', '!']\n"
     ]
    }
   ],
   "source": [
    "text = \"Python is easy and beginnere friendly !\"\n",
    "print(text.split(\" \"))"
   ]
  },
  {
   "attachments": {},
   "cell_type": "markdown",
   "metadata": {},
   "source": [
    "and many more !!!! you can find more string built-in method in https://www.geeksforgeeks.org/python-string-methods/"
   ]
  },
  {
   "attachments": {},
   "cell_type": "markdown",
   "metadata": {},
   "source": [
    "## Case in Python\n",
    "Python is case sensitive, that means variable `text` and `Text` are different"
   ]
  },
  {
   "cell_type": "code",
   "execution_count": 42,
   "metadata": {},
   "outputs": [
    {
     "name": "stdout",
     "output_type": "stream",
     "text": [
      "I love python Python is beginner friendly\n"
     ]
    }
   ],
   "source": [
    "text = 'I love python'\n",
    "Text = 'Python is beginner friendly'\n",
    "\n",
    "print(text, Text)"
   ]
  },
  {
   "attachments": {},
   "cell_type": "markdown",
   "metadata": {},
   "source": [
    "### Case Style\n",
    "According to [Google's style guide](https://google.github.io/styleguide/pyguide.html) recommendations, the following is an example of writing a suggested case :"
   ]
  },
  {
   "cell_type": "code",
   "execution_count": null,
   "metadata": {},
   "outputs": [],
   "source": [
    "# snake_case used for :\n",
    "module_name, package_name, method_name, function_name, , global_var_name, instance_var_name, function_parameter_name, local_var_name\n",
    "\n",
    "# CamelCase used for :\n",
    "ClassName, ExceptionName\n",
    "\n",
    "# ALL_CAPS used for :\n",
    "GLOBAL_CONSTANT_NAME"
   ]
  },
  {
   "attachments": {},
   "cell_type": "markdown",
   "metadata": {},
   "source": [
    "## Python Indentation\n",
    "Indentation refers to the white space or blank characters at the beginning of a code line. The indentation is used to indicate the level of grouping of the code statements. It is a way of specifying the scope or block of code in Python.\n",
    "\n",
    "![indent](assets/indent.png)"
   ]
  },
  {
   "attachments": {},
   "cell_type": "markdown",
   "metadata": {},
   "source": [
    "## Python Comment\n",
    "Comments are lines of code that will not be executed.\n",
    "\n",
    "Comments are used to provide additional information and to disable code.\n",
    "\n",
    "There are several ways to write comments in Python programming."
   ]
  },
  {
   "attachments": {},
   "cell_type": "markdown",
   "metadata": {},
   "source": [
    "### 1. Use (`#`)"
   ]
  },
  {
   "cell_type": "code",
   "execution_count": 2,
   "metadata": {},
   "outputs": [],
   "source": [
    "# This is comment"
   ]
  },
  {
   "attachments": {},
   "cell_type": "markdown",
   "metadata": {},
   "source": [
    "### 2. Use quotes (`''`)"
   ]
  },
  {
   "cell_type": "code",
   "execution_count": 1,
   "metadata": {},
   "outputs": [
    {
     "data": {
      "text/plain": [
       "'This is comment'"
      ]
     },
     "execution_count": 1,
     "metadata": {},
     "output_type": "execute_result"
    }
   ],
   "source": [
    "'This is comment'"
   ]
  },
  {
   "attachments": {},
   "cell_type": "markdown",
   "metadata": {},
   "source": [
    "### 3. Use triple quotes (`\"\"\"`)"
   ]
  },
  {
   "cell_type": "code",
   "execution_count": 3,
   "metadata": {},
   "outputs": [
    {
     "data": {
      "text/plain": [
       "' \\nThis is Comment\\nit is usually used for writing documentation\\n\\n'"
      ]
     },
     "execution_count": 3,
     "metadata": {},
     "output_type": "execute_result"
    }
   ],
   "source": [
    "''' \n",
    "This is Comment\n",
    "it is usually used for writing documentation\n",
    "\n",
    "'''"
   ]
  },
  {
   "attachments": {},
   "cell_type": "markdown",
   "metadata": {},
   "source": [
    "# Variable and Data Types"
   ]
  },
  {
   "attachments": {},
   "cell_type": "markdown",
   "metadata": {},
   "source": [
    "**Variable** is a place to store data, while **Data Types** are the type of data stored in variable. Variable are mutable, which means their value can be changed"
   ]
  },
  {
   "attachments": {},
   "cell_type": "markdown",
   "metadata": {},
   "source": [
    "## Make a variable\n",
    "variable can be created with format : \n",
    "\n",
    "`variable_name = <value>`\n",
    "\n",
    "for example :"
   ]
  },
  {
   "cell_type": "code",
   "execution_count": 3,
   "metadata": {},
   "outputs": [
    {
     "name": "stdout",
     "output_type": "stream",
     "text": [
      "10\n",
      "this is a variable\n"
     ]
    }
   ],
   "source": [
    "num = 10\n",
    "text = \"this is a variable\"\n",
    "\n",
    "print(num)\n",
    "\n",
    "print(text)"
   ]
  },
  {
   "attachments": {},
   "cell_type": "markdown",
   "metadata": {},
   "source": [
    "### Rules for writing variable\n",
    "\n",
    "1. Variable names may begin with a letter or underscore (_), for example: name, _name, myname, variable_name\n",
    "2. The next character can be a letter, underscore (_) or number, for example: __name, n2, value1\n",
    "3. Characters in variable names are case-sensitive. This means that uppercase and lowercase letters are distinguished. For example, my_variable and my_variable are two different variables\n",
    "4. Variable names cannot use keywords that already exist in python such as `if`, `while`, `for`, etc."
   ]
  },
  {
   "attachments": {},
   "cell_type": "markdown",
   "metadata": {},
   "source": [
    "## Delete a variable\n",
    "\n",
    "we can delete a variable with `del()`, for example :"
   ]
  },
  {
   "cell_type": "code",
   "execution_count": 4,
   "metadata": {},
   "outputs": [
    {
     "name": "stdout",
     "output_type": "stream",
     "text": [
      "this is a variable\n"
     ]
    }
   ],
   "source": [
    "text = \"this is a variable\"\n",
    "print(text)"
   ]
  },
  {
   "cell_type": "code",
   "execution_count": 5,
   "metadata": {},
   "outputs": [
    {
     "ename": "NameError",
     "evalue": "name 'text' is not defined",
     "output_type": "error",
     "traceback": [
      "\u001b[1;31m---------------------------------------------------------------------------\u001b[0m",
      "\u001b[1;31mNameError\u001b[0m                                 Traceback (most recent call last)",
      "Cell \u001b[1;32mIn[5], line 2\u001b[0m\n\u001b[0;32m      1\u001b[0m \u001b[39mdel\u001b[39;00m(text)\n\u001b[1;32m----> 2\u001b[0m \u001b[39mprint\u001b[39m(text)\n",
      "\u001b[1;31mNameError\u001b[0m: name 'text' is not defined"
     ]
    }
   ],
   "source": [
    "del(text)\n",
    "print(text)"
   ]
  },
  {
   "attachments": {},
   "cell_type": "markdown",
   "metadata": {},
   "source": [
    "Variable *text* is no more exist !!!"
   ]
  },
  {
   "attachments": {},
   "cell_type": "markdown",
   "metadata": {},
   "source": [
    "## Data types\n",
    "\n",
    "The way to fill in the value of a variable is determined by the type of data, for example for the data type text (string) it must be enclosed in quotation marks (\" \"). As for numbers (integers) and booleans do not need to be enclosed in quotation marks. For example :"
   ]
  },
  {
   "cell_type": "code",
   "execution_count": 11,
   "metadata": {},
   "outputs": [],
   "source": [
    "name = \"python\"\n",
    "ver = 3\n",
    "build = 3.10\n",
    "status = True"
   ]
  },
  {
   "attachments": {},
   "cell_type": "markdown",
   "metadata": {},
   "source": [
    "To check the data type of a variable, we can use the `type()` function."
   ]
  },
  {
   "cell_type": "code",
   "execution_count": 12,
   "metadata": {},
   "outputs": [
    {
     "name": "stdout",
     "output_type": "stream",
     "text": [
      "<class 'str'>\n",
      "<class 'int'>\n",
      "<class 'float'>\n",
      "<class 'bool'>\n"
     ]
    }
   ],
   "source": [
    "print(type(name))\n",
    "print(type(ver))\n",
    "print(type(build))\n",
    "print(type(status))"
   ]
  },
  {
   "attachments": {},
   "cell_type": "markdown",
   "metadata": {},
   "source": [
    "## Types of Data Types"
   ]
  },
  {
   "attachments": {},
   "cell_type": "markdown",
   "metadata": {},
   "source": [
    "In general, primitive data types in python are divided into three types :\n",
    "\n",
    "1. **Number** data type\n",
    "2. **Text** data type\n",
    "3. **Bool** data type"
   ]
  },
  {
   "attachments": {},
   "cell_type": "markdown",
   "metadata": {},
   "source": [
    "### 1. Number Data Types"
   ]
  },
  {
   "attachments": {},
   "cell_type": "markdown",
   "metadata": {},
   "source": [
    "The number data type is divided into several more types :\n",
    "\n",
    "1. int (Integer): integer, example 5, 10, 15, 20, etc.\n",
    "2. float: fractional number, example 1.5, 3.14, 12.7, etc.\n",
    "\n",
    "for example :"
   ]
  },
  {
   "cell_type": "code",
   "execution_count": 14,
   "metadata": {},
   "outputs": [
    {
     "name": "stdout",
     "output_type": "stream",
     "text": [
      "190 70.6 700.0\n"
     ]
    }
   ],
   "source": [
    "height = 190\n",
    "weight = 70.6\n",
    "distance = 7e2 # float 700.0, e means exponen 10\n",
    "\n",
    "print(height, weight, distance)"
   ]
  },
  {
   "attachments": {},
   "cell_type": "markdown",
   "metadata": {},
   "source": [
    "### 2. Text Data Types"
   ]
  },
  {
   "attachments": {},
   "cell_type": "markdown",
   "metadata": {},
   "source": [
    "The text data type is divided into two :\n",
    "1. **Char** : A character, example 'a'\n",
    "2. **String** : Set of characters, example \"I'm sleeping\".\n",
    "\n",
    "Text data type writing must be enclosed in quotation marks. Can use single (' '), double (\" \"), and triple (''' ''' or \"\"\" \"\"\") quotes. For example :"
   ]
  },
  {
   "cell_type": "code",
   "execution_count": 15,
   "metadata": {},
   "outputs": [],
   "source": [
    "name = \"John\"\n",
    "sex = 'M'\n",
    "address = \"\"\"\n",
    "    Excalibur St., No. 8a, Canada\n",
    "\"\"\""
   ]
  },
  {
   "attachments": {},
   "cell_type": "markdown",
   "metadata": {},
   "source": [
    "### Data Types Conversion"
   ]
  },
  {
   "attachments": {},
   "cell_type": "markdown",
   "metadata": {},
   "source": [
    "Even though Python has automatically detected the type of data stored in variables, sometimes we need to convert data types.\n",
    "\n",
    "Functions to change the data type :\n",
    "\n",
    "1. **`int()`** to convert to integer;\n",
    "2. **`long()`** to convert to long integer;\n",
    "3. **`float()`** to change to float;\n",
    "4. **`bool()`** to convert to boolean;\n",
    "5. **`chr()`** to convert to character;\n",
    "6. **`str()`** to convert to string.\n",
    "7. **`bin()`** to convert to Binary number.\n",
    "8. **`hex()`** to convert to a Hexadecimal number.\n",
    "9. **`oct()`** to convert to octa number."
   ]
  },
  {
   "attachments": {},
   "cell_type": "markdown",
   "metadata": {},
   "source": [
    "# Input and Output"
   ]
  },
  {
   "attachments": {},
   "cell_type": "markdown",
   "metadata": {},
   "source": [
    "Input refers to the data or information that is provided to the program. While Output refers to the data or information that is generated by the program and sent to the user or external systems. Python have `input()` (for number) and `raw_input()` (for text) to provide input. In python3, we can use `input()` only, because `raw_input()` function is already bundled in there. To display text output, we can use `print()` function."
   ]
  },
  {
   "cell_type": "code",
   "execution_count": 7,
   "metadata": {},
   "outputs": [],
   "source": [
    "name = input(\"input your name : \")\n",
    "age = input(\"input your age : \")"
   ]
  },
  {
   "cell_type": "code",
   "execution_count": 8,
   "metadata": {},
   "outputs": [
    {
     "name": "stdout",
     "output_type": "stream",
     "text": [
      "my name is John , i'm 32 years old\n"
     ]
    }
   ],
   "source": [
    "print(\"my name is\",name,\", i'm\",age,\"years old\")"
   ]
  },
  {
   "attachments": {},
   "cell_type": "markdown",
   "metadata": {},
   "source": [
    "We can use `format()` to concatenate the variable contents with the text. For example :"
   ]
  },
  {
   "cell_type": "code",
   "execution_count": 10,
   "metadata": {},
   "outputs": [
    {
     "name": "stdout",
     "output_type": "stream",
     "text": [
      "Hello !!, my name is John, I am 32 years old\n"
     ]
    }
   ],
   "source": [
    "print(\"Hello !!, my name is {}, I am {} years old\".format(name, age))"
   ]
  },
  {
   "attachments": {},
   "cell_type": "markdown",
   "metadata": {},
   "source": [
    "Or"
   ]
  },
  {
   "cell_type": "code",
   "execution_count": 11,
   "metadata": {},
   "outputs": [
    {
     "name": "stdout",
     "output_type": "stream",
     "text": [
      "Hello !!, my name is John, I am 32 years old\n"
     ]
    }
   ],
   "source": [
    "print (f\"Hello !!, my name is {name}, I am {age} years old\")"
   ]
  },
  {
   "attachments": {},
   "cell_type": "markdown",
   "metadata": {},
   "source": [
    "Or"
   ]
  },
  {
   "cell_type": "code",
   "execution_count": 15,
   "metadata": {},
   "outputs": [
    {
     "name": "stdout",
     "output_type": "stream",
     "text": [
      "Hello !!, my name is John, I am 32 years old\n"
     ]
    }
   ],
   "source": [
    "print(\"Hello !!, my name is %s, I am %d years old\"% (name, int(age)))"
   ]
  },
  {
   "attachments": {},
   "cell_type": "markdown",
   "metadata": {},
   "source": [
    "# Operator"
   ]
  },
  {
   "attachments": {},
   "cell_type": "markdown",
   "metadata": {},
   "source": [
    "Operators are symbols that are used to perform certain operations. There are six types of operators in programming that you must know :\n",
    "\n",
    "1. Arithmetic Operators\n",
    "2. Comparison Operators\n",
    "3. Assignment Operators\n",
    "4. Logic Operator\n",
    "5. Bitwise Operators\n",
    "6. Ternary Operators"
   ]
  },
  {
   "attachments": {},
   "cell_type": "markdown",
   "metadata": {},
   "source": [
    "## 1. Arithmetic Operators"
   ]
  },
  {
   "attachments": {},
   "cell_type": "markdown",
   "metadata": {},
   "source": [
    "|Symbols|Operator|\n",
    "|-|-|\n",
    "|+|Addition|\n",
    "|-|Subtraction|\n",
    "|*|Multiplication|\n",
    "|/|Division|\n",
    "|%|Modulus|\n",
    "|**|Exponentiation|\n",
    "|//|Floor division|\n",
    "\n",
    "**Modulus** returns the remainder of a division operation. For example, 7 % 3 returns 1 because 3 goes into 7 twice with a remainder of 1.\n",
    "\n",
    "**Floor division** is also a division operator, but it returns the quotient of the division, rounded down to the nearest integer. For example, 7 // 3 returns 2 because 3 goes into 7 twice with a remainder of 1, and the result is rounded down to the nearest integer."
   ]
  },
  {
   "cell_type": "code",
   "execution_count": 7,
   "metadata": {},
   "outputs": [
    {
     "name": "stdout",
     "output_type": "stream",
     "text": [
      "Addition = 10.0 + 2.0 = 12.0\n",
      "Substraction = 10.0 - 2.0 = 8.0\n",
      "Multiplication = 10.0 x 2.0 = 20.0\n",
      "Division = 10.0 : 2.0 = 5.0\n",
      "Modulus = 10.0 % 2.0 = 0.0\n",
      "Expopnentiation = 10.0 ^ 2.0 = 100.0\n",
      "Floor division = 10.0 : 2.0 = 5.0\n"
     ]
    }
   ],
   "source": [
    "x = float(input(\"input 1st value : \"))\n",
    "y = float(input(\"input 2nd value : \"))\n",
    "\n",
    "print(f\"Addition = {x} + {y} = {x+y}\")\n",
    "print(f\"Substraction = {x} - {y} = {x-y}\")\n",
    "print(f\"Multiplication = {x} x {y} = {x*y}\")\n",
    "print(f\"Division = {x} : {y} = {x/y}\")\n",
    "print(f\"Modulus = {x} % {y} = {x%y}\")\n",
    "print(f\"Expopnentiation = {x} ^ {y} = {x**y}\")\n",
    "print(f\"Floor division = {x} : {y} = {x//y}\")"
   ]
  },
  {
   "attachments": {},
   "cell_type": "markdown",
   "metadata": {},
   "source": [
    "## 2. Comparison Operator"
   ]
  },
  {
   "attachments": {},
   "cell_type": "markdown",
   "metadata": {},
   "source": [
    "Comparison operators are used to compare the values of operands and return a Boolean value (True or False) based on the comparison result\n",
    "\n",
    "|Operators|Name|\n",
    "|-|-|\n",
    "|==\t|Equal\n",
    "|!=\t|Not equal\n",
    "|>\t|Greater than\n",
    "|<\t|Less than\n",
    "|>=\t|Greater than or equal to\n",
    "|<=\t|Less than or equal to"
   ]
  },
  {
   "cell_type": "code",
   "execution_count": 8,
   "metadata": {},
   "outputs": [
    {
     "name": "stdout",
     "output_type": "stream",
     "text": [
      "is 5 equal 5 ? True\n",
      "is 5 not equal 5 ? False\n",
      "is 5 greater than 5 ? False\n",
      "is 5 less than 5 ? False\n",
      "is 5 greater than or equal to 5 ? True\n",
      "is 5 less than or equal to 5 ? True\n"
     ]
    }
   ],
   "source": [
    "x = int(input(\"input 1st value : \"))\n",
    "y = int(input(\"input 2nd value : \"))\n",
    "\n",
    "print(f\"is {x} equal {y} ? {x==y}\")\n",
    "print(f\"is {x} not equal {y} ? {x!=y}\")\n",
    "print(f\"is {x} greater than {y} ? {x>y}\")\n",
    "print(f\"is {x} less than {y} ? {x<y}\")\n",
    "print(f\"is {x} greater than or equal to {y} ? {x>=y}\")\n",
    "print(f\"is {x} less than or equal to {y} ? {x<=y}\")"
   ]
  },
  {
   "attachments": {},
   "cell_type": "markdown",
   "metadata": {},
   "source": [
    "## 3. Assignment Operator"
   ]
  },
  {
   "attachments": {},
   "cell_type": "markdown",
   "metadata": {},
   "source": [
    "Assignment operators are used to assign values to variables\n",
    "\n",
    "|Operator|Example|Same as|\n",
    "|-|-|-|\n",
    "|=\t|x = 5\t|x = 5|\n",
    "|+=\t|x += 3\t|x = x + 3|\t\n",
    "|-=\t|x -= 3\t|x = x - 3|\t\n",
    "|*=\t|x *= 3\t|x = x * 3|\t\n",
    "|/=\t|x /= 3\t|x = x / 3|\t\n",
    "|%=\t|x %= 3\t|x = x % 3|\t\n",
    "|//= |x //= 3\t|x = x // 3|\t\n",
    "|**= |x **= 3\t|x = x ** 3\t|\n",
    "|&=x |&= 3\t|x = x & 3\t|\n",
    "|^=\tx |^= 3\t|x = x ^ 3\t|\n",
    "|>>= |x >>= 3|x = x >> 3|\t\n",
    "|<<= |x <<= 3|x = x << 3|\n",
    "\n",
    "and one more...\n",
    "\n",
    "Operator : | = x \n",
    "\n",
    "Example : | = 3\t\n",
    "\n",
    "Same as : x = x | 3\n",
    "\n",
    "\n",
    "For Example :"
   ]
  },
  {
   "cell_type": "code",
   "execution_count": 9,
   "metadata": {},
   "outputs": [
    {
     "name": "stdout",
     "output_type": "stream",
     "text": [
      "x**=2 :  25\n",
      "x/=2 :  5.0\n",
      "x|=2 :  -10\n"
     ]
    }
   ],
   "source": [
    "x = 5\n",
    "x **= 2\n",
    "print(\"x**=2 : \",x)\n",
    "\n",
    "x = 10\n",
    "x /= 2\n",
    "print(\"x/=2 : \",x)\n",
    "\n",
    "x = 10\n",
    "x -= 20\n",
    "print(\"x|=2 : \",x)"
   ]
  },
  {
   "attachments": {},
   "cell_type": "markdown",
   "metadata": {},
   "source": [
    "## 4. Logic Operator"
   ]
  },
  {
   "attachments": {},
   "cell_type": "markdown",
   "metadata": {},
   "source": [
    "Logical operators are used to combine conditional statements\n",
    "|Operator|Description|Example|\n",
    "|-|-|-|\n",
    "|and|Returns True if both statements are true|\tx < 5 and  x < 10|\n",
    "|or\t|Returns True if one of the statements is true|\tx < 5 or x < 4|\t\n",
    "|not|Reverse the result, returns False if the result is true|\tnot(x < 5 and x < 10)|"
   ]
  },
  {
   "cell_type": "code",
   "execution_count": 15,
   "metadata": {},
   "outputs": [
    {
     "name": "stdout",
     "output_type": "stream",
     "text": [
      "True and False = False\n",
      "True or False = True\n",
      "not True and False = True\n"
     ]
    }
   ],
   "source": [
    "a = True\n",
    "b = False\n",
    "\n",
    "c = a and b\n",
    "print(f\"{a} and {b} = {c}\")\n",
    "\n",
    "c = a or b\n",
    "print(f\"{a} or {b} = {c}\")\n",
    "\n",
    "c = not(a and b)\n",
    "print(f\"not {a} and {b} = {c}\")"
   ]
  },
  {
   "attachments": {},
   "cell_type": "markdown",
   "metadata": {},
   "source": [
    "## Bitwise Operator"
   ]
  },
  {
   "attachments": {},
   "cell_type": "markdown",
   "metadata": {},
   "source": [
    "Bitwise operators are used to compare (binary) numbers:\n",
    "\n"
   ]
  },
  {
   "cell_type": "code",
   "execution_count": null,
   "metadata": {},
   "outputs": [],
   "source": []
  }
 ],
 "metadata": {
  "kernelspec": {
   "display_name": "base",
   "language": "python",
   "name": "python3"
  },
  "language_info": {
   "codemirror_mode": {
    "name": "ipython",
    "version": 3
   },
   "file_extension": ".py",
   "mimetype": "text/x-python",
   "name": "python",
   "nbconvert_exporter": "python",
   "pygments_lexer": "ipython3",
   "version": "3.10.9"
  },
  "orig_nbformat": 4
 },
 "nbformat": 4,
 "nbformat_minor": 2
}
